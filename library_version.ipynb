{
 "cells": [
  {
   "cell_type": "code",
   "execution_count": null,
   "metadata": {},
   "outputs": [],
   "source": [
    "import sys\n",
    "print ('Python: {} '.format(sys.version))\n",
    "# scipy\n",
    "import scipy\n",
    "print ('Scipy: {} '.format(scipy.__version__))\n",
    "# numpy\n",
    "import numpy \n",
    "print('Numpy: {} '.format(numpy.__version__))\n",
    "# matpltlib\n",
    "import matplotlib\n",
    "print('Matplotlib: {} '.format(matplotlib.__version__))\n",
    "# pandas\n",
    "import pandas\n",
    "print('Pandas: {} '.format(pandas.__version__))\n",
    "# sklearn\n",
    "import sklearn\n",
    "print('Sklearn: {} '.format(sklearn.__version__))\n"
   ]
  },
  {
   "cell_type": "code",
   "execution_count": null,
   "metadata": {},
   "outputs": [],
   "source": []
  }
 ],
 "metadata": {
  "kernelspec": {
   "display_name": "Python 3.10.2 64-bit",
   "language": "python",
   "name": "python3"
  },
  "language_info": {
   "codemirror_mode": {
    "name": "ipython",
    "version": 3
   },
   "file_extension": ".py",
   "mimetype": "text/x-python",
   "name": "python",
   "nbconvert_exporter": "python",
   "pygments_lexer": "ipython3",
   "version": "3.10.2"
  },
  "orig_nbformat": 4,
  "vscode": {
   "interpreter": {
    "hash": "a42ccb73e7d9bfdf27e036f1d2b8b681e55fc0743cc5586bc2474d4a60f4b886"
   }
  }
 },
 "nbformat": 4,
 "nbformat_minor": 2
}
